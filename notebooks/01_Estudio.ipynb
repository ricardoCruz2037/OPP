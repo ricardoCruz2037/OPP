{
 "cells": [
  {
   "cell_type": "markdown",
   "metadata": {},
   "source": [
    "## Clases, objetos, atributos, métodos y instancias"
   ]
  },
  {
   "cell_type": "code",
   "execution_count": 1,
   "metadata": {},
   "outputs": [],
   "source": [
    "class chango:\n",
    "    def __init__(self, name, escola):\n",
    "        self.name = name\n",
    "        self.escola = escola\n",
    "    def speak(self):\n",
    "        print(f'Hola, soy {self.name}, como bananas y soy del {self.escola}')"
   ]
  },
  {
   "cell_type": "code",
   "execution_count": 2,
   "metadata": {},
   "outputs": [
    {
     "name": "stdout",
     "output_type": "stream",
     "text": [
      "Hola, soy dani, como bananas y soy del itsoeh\n"
     ]
    }
   ],
   "source": [
    "mono = chango(\"dani\", \"itsoeh\")\n",
    "mono.speak()"
   ]
  },
  {
   "cell_type": "markdown",
   "metadata": {},
   "source": [
    "---"
   ]
  },
  {
   "cell_type": "markdown",
   "metadata": {},
   "source": [
    "## Herencia"
   ]
  },
  {
   "cell_type": "code",
   "execution_count": 3,
   "metadata": {},
   "outputs": [
    {
     "name": "stdout",
     "output_type": "stream",
     "text": [
      "Mi nombre es richi y tengo 22 años\n",
      "Mi pensamiento es pendejo\n",
      "Mi nombre es mire y tengo 11 años\n",
      "Mi pensamiento es inteligente\n"
     ]
    }
   ],
   "source": [
    "class Padre:\n",
    "    def __init__(self, name, age, pensamiento):\n",
    "        self.name = name\n",
    "        self.age = age\n",
    "        self.pensamiento = pensamiento\n",
    "    def say(self):\n",
    "        print(f'Mi pensamiento es {self.pensamiento}')\n",
    "        \n",
    "class Hijo(Padre):\n",
    "    def say_son(self):\n",
    "        print(f'Mi nombre es {self.name} y tengo {self.age} años')\n",
    "        super(Hijo, self).say() # Especificando a comparacion que \"super().say()\", en py 2 solo se podia de esta forma.\n",
    "\n",
    "richi = Hijo(\"richi\", 22,\"pendejo\")\n",
    "richi.say_son()\n",
    "\n",
    "mire = Hijo(\"mire\", 11, \"inteligente\")\n",
    "mire.say_son()"
   ]
  },
  {
   "cell_type": "markdown",
   "metadata": {},
   "source": [
    "## Herencia multiple        \n"
   ]
  },
  {
   "cell_type": "code",
   "execution_count": null,
   "metadata": {},
   "outputs": [],
   "source": []
  },
  {
   "cell_type": "markdown",
   "metadata": {},
   "source": [
    "---"
   ]
  },
  {
   "cell_type": "markdown",
   "metadata": {},
   "source": [
    "## Polimorfismo     \n",
    "### Sobrecarga de métodos\n",
    "En Python, no hay una sobrecarga de métodos en el sentido clásico, como en otros lenguajes como C++ o Java. Sin embargo, se puede lograr un efecto similar utilizando parámetros opcionales y la función ***args**."
   ]
  },
  {
   "cell_type": "code",
   "execution_count": 4,
   "metadata": {},
   "outputs": [
    {
     "data": {
      "text/plain": [
       "6"
      ]
     },
     "execution_count": 4,
     "metadata": {},
     "output_type": "execute_result"
    }
   ],
   "source": [
    "class Calculadora:\n",
    "    def suma(self, *args):\n",
    "        return sum(args)\n",
    "    \n",
    "calculo = Calculadora()\n",
    "calculo.suma(1,2,3)"
   ]
  },
  {
   "cell_type": "markdown",
   "metadata": {},
   "source": [
    "### Redefinición de métodos\n",
    "La redefinición de métodos es una forma de polimorfismo en la que una **clase hija redefine un método de su clase padre**. La clase hija puede tener un comportamiento diferente o adicional al método de la clase padre."
   ]
  },
  {
   "cell_type": "code",
   "execution_count": 5,
   "metadata": {},
   "outputs": [
    {
     "name": "stdout",
     "output_type": "stream",
     "text": [
      "El animal hace ruido\n",
      "El perro hace wuau\n"
     ]
    }
   ],
   "source": [
    "class Animal():\n",
    "    def sound(self):\n",
    "        print(f'El animal hace ruido')\n",
    "\n",
    "class Perro():\n",
    "    def sound(self):\n",
    "        print(f'El perro hace wuau')\n",
    "        \n",
    "anima = Animal()\n",
    "anima.sound()       \n",
    "\n",
    "dogo = Perro()\n",
    "dogo.sound() "
   ]
  },
  {
   "cell_type": "markdown",
   "metadata": {},
   "source": [
    "En este ejemplo, la clase Perro redefine el método sound() de la clase Animal. Cuando se llama al método sound() en un objeto Perro, se ejecuta la implementación de la clase Perro, no la de la clase Animal.      "
   ]
  },
  {
   "cell_type": "markdown",
   "metadata": {},
   "source": [
    "### Polimorfismo con objetos\n",
    "\n",
    "El polimorfismo también se puede lograr utilizando objetos de diferentes clases que tienen métodos con el mismo nombre."
   ]
  },
  {
   "cell_type": "code",
   "execution_count": 6,
   "metadata": {},
   "outputs": [
    {
     "name": "stdout",
     "output_type": "stream",
     "text": [
      "78.5\n",
      "24\n"
     ]
    }
   ],
   "source": [
    "class Circulo:\n",
    "    def __init__(self, radio):\n",
    "        self.radio = radio\n",
    "        \n",
    "    def area(self):\n",
    "        return 3.14 * (self.radio ** 2)\n",
    "    \n",
    "class Rectangulo:\n",
    "    def __init__(self, base, altura):\n",
    "        self.base = base\n",
    "        self.altura = altura\n",
    "        \n",
    "    def area(self):\n",
    "        return self.base * self.altura\n",
    "    \n",
    "figuras = [Circulo(radio = 5), Rectangulo(base = 4, altura = 6)]\n",
    "\n",
    "for figura in figuras:\n",
    "    print(figura.area())"
   ]
  },
  {
   "cell_type": "markdown",
   "metadata": {},
   "source": [
    "En este ejemplo, se tiene una lista de objetos de diferentes clases (Circulo y Rectangulo) que tienen un método area() con implementaciones diferentes. Al iterar sobre la lista y llamar al método area() en cada objeto, se ejecuta la implementación correcta para cada clase."
   ]
  },
  {
   "cell_type": "markdown",
   "metadata": {},
   "source": [
    "En resumen, el polimorfismo en Python se logra mediante la **sobrecarga de métodos** utilizando parámetros opcionales y la función ***args**, la **redefinición de métodos en clases hijas**, y el **uso de objetos de diferentes clases** que tienen métodos con el mismo nombre."
   ]
  }
 ],
 "metadata": {
  "kernelspec": {
   "display_name": "Python 3",
   "language": "python",
   "name": "python3"
  },
  "language_info": {
   "codemirror_mode": {
    "name": "ipython",
    "version": 3
   },
   "file_extension": ".py",
   "mimetype": "text/x-python",
   "name": "python",
   "nbconvert_exporter": "python",
   "pygments_lexer": "ipython3",
   "version": "3.12.4"
  }
 },
 "nbformat": 4,
 "nbformat_minor": 2
}
