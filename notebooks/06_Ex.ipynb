{
 "cells": [
  {
   "cell_type": "markdown",
   "metadata": {},
   "source": [
    "# Ejercicio 6 de OOP"
   ]
  },
  {
   "cell_type": "markdown",
   "metadata": {},
   "source": [
    "<img src=\"/OPP/images/06.jpg\" alt=\"Ex 1\" width=\"500\">"
   ]
  },
  {
   "cell_type": "markdown",
   "metadata": {},
   "source": [
    "## Clase Employee\n",
    "- **int id**: Atributo de instancia. Identifica de manera unica a cada instancia de `Employee`.\n",
    "- **int new_id**: Atributo de clase. Identificador unico.\n",
    "- **void say_id()**: Imprime 'Mi id es: {self.id}.\n",
    "\n",
    "## Clase User\n",
    "- **str role**: Atributo de instancia. Funcion de `User` p.ej.\n",
    "    - Administrador\n",
    "    - Manager\n",
    "    - Usuario\n",
    "- **str username**: Atributo de instancia. Nombre del usuario.\n",
    "- **void say_user_info()**: Imprime 'Mi nombre es {self.username} y soy {self.role}.'.\n",
    "\n",
    "## Clase Admin\n",
    "- **void say_id()**: Imprime:\n",
    "    - 'Mi id es: {self.id}.\n",
    "    - 'Soy un Administrador \\\\(0-0)/'.\n",
    "    \n",
    "## Clase Manager\n",
    "- **void say_id()**: Imprime:\n",
    "    - 'Mi id es: {self.id}.\n",
    "    - 'Soy un Administrador \\\\(0-0)/'.    \n",
    "    - 'Y estoy al mando'"
   ]
  },
  {
   "cell_type": "code",
   "execution_count": 26,
   "metadata": {},
   "outputs": [
    {
     "name": "stdout",
     "output_type": "stream",
     "text": [
      "Mi id es 1.\n",
      "Mi nombre es Daniel y soy Usuario.\n",
      "Mi id es 2.\n",
      "Mi nombre es Gustavo y soy Administrador.\n",
      "Mi id es 3.\n",
      "Mi nombre es Christian y soy Administrador.\n"
     ]
    }
   ],
   "source": [
    "class Employee:\n",
    "    new_id = 1\n",
    "    def __init__(self):\n",
    "        self.id = Employee.new_id \n",
    "        Employee.new_id += 1 \n",
    "        \n",
    "    def say_id(self): \n",
    "        print(f'Mi id es {self.id}.')\n",
    "\n",
    "class User:\n",
    "    def __init__(self, role, username):\n",
    "        self.role = role\n",
    "        self.username = username\n",
    "        \n",
    "    def say_user_info(self):\n",
    "        print(f'Mi nombre es {self.username} y soy {self.role}.')\n",
    "        \n",
    "class Admin(Employee, User):\n",
    "    def __init__(self, username): \n",
    "            super().__init__()\n",
    "            User.__init__(self,'Administrador', username) \n",
    "            \n",
    "    def say_id(self):\n",
    "        super(Admin, self).say_id()\n",
    "        \n",
    "class Manager(Admin):\n",
    "    def say_id(self):\n",
    "        super(Manager, self).say_id()\n",
    "        \n",
    "richard = Employee()\n",
    "richard.say_id()\n",
    "\n",
    "daniel = User('Usuario', 'Daniel')\n",
    "daniel.say_user_info()\n",
    "\n",
    "gustavo = Admin('Gustavo')\n",
    "gustavo.say_id()\n",
    "gustavo.say_user_info()\n",
    "\n",
    "christian = Manager('Christian')\n",
    "christian.say_id()\n",
    "christian.say_user_info()"
   ]
  },
  {
   "cell_type": "code",
   "execution_count": 27,
   "metadata": {},
   "outputs": [],
   "source": [
    "class Employee:\n",
    "    new_id = 1\n",
    "    def __init__(self):\n",
    "        self.id = Employee.new_id \n",
    "        Employee.new_id += 1 \n",
    "        \n",
    "    def say_id(self): \n",
    "        print(f'Mi id es {self.id}.')"
   ]
  },
  {
   "cell_type": "code",
   "execution_count": 28,
   "metadata": {},
   "outputs": [
    {
     "name": "stdout",
     "output_type": "stream",
     "text": [
      "Mi id es 1.\n",
      "Mi id es 2.\n"
     ]
    }
   ],
   "source": [
    "richi = Employee()\n",
    "richi.say_id()\n",
    "\n",
    "doc = Employee()\n",
    "doc.say_id()\n"
   ]
  },
  {
   "cell_type": "code",
   "execution_count": 29,
   "metadata": {},
   "outputs": [],
   "source": [
    "class User:\n",
    "    def __init__(self, role, username):\n",
    "        self.role = role\n",
    "        self.username = username\n",
    "        \n",
    "    def say_user_info(self):\n",
    "        print(f'Mi nombre es {self.username} y soy {self.role}.')"
   ]
  },
  {
   "cell_type": "code",
   "execution_count": 30,
   "metadata": {},
   "outputs": [
    {
     "name": "stdout",
     "output_type": "stream",
     "text": [
      "Mi nombre es Dan y soy Usuario.\n",
      "Mi nombre es Mak y soy Admin.\n"
     ]
    }
   ],
   "source": [
    "dan = User('Usuario', 'Dan')\n",
    "dan.say_user_info()\n",
    "\n",
    "mak = User('Admin', 'Mak')\n",
    "mak.say_user_info()"
   ]
  },
  {
   "cell_type": "code",
   "execution_count": 31,
   "metadata": {},
   "outputs": [],
   "source": [
    "class Admin(Employee, User):\n",
    "    def __init__(self, role, username): # \"Tomado prestado\" los atributos de Employee y User\n",
    "            Employee.__init__(self)  # Llamando métodos de Employee's __init__ \n",
    "            User.__init__(self, role, username)  # Llamando métdos de User's __init__\n",
    "    \n",
    "    def say_id(self):\n",
    "        super().say_id()\n",
    "        super().say_user_info()"
   ]
  },
  {
   "cell_type": "code",
   "execution_count": 32,
   "metadata": {},
   "outputs": [
    {
     "name": "stdout",
     "output_type": "stream",
     "text": [
      "Mi id es 3.\n",
      "Mi nombre es gus y soy Admin.\n"
     ]
    }
   ],
   "source": [
    "gus = Admin('Admin', 'gus')\n",
    "gus.say_id()"
   ]
  },
  {
   "cell_type": "code",
   "execution_count": 33,
   "metadata": {},
   "outputs": [],
   "source": [
    "class Manager(Admin):\n",
    "    def say_id(self):\n",
    "        super(Manager, self).say_id()"
   ]
  },
  {
   "cell_type": "code",
   "execution_count": 34,
   "metadata": {},
   "outputs": [
    {
     "name": "stdout",
     "output_type": "stream",
     "text": [
      "Mi id es 4.\n",
      "Mi nombre es Kk y soy Manager.\n"
     ]
    }
   ],
   "source": [
    "kk = Manager('Manager', 'Kk')\n",
    "kk.say_id()"
   ]
  }
 ],
 "metadata": {
  "kernelspec": {
   "display_name": "Python 3",
   "language": "python",
   "name": "python3"
  },
  "language_info": {
   "codemirror_mode": {
    "name": "ipython",
    "version": 3
   },
   "file_extension": ".py",
   "mimetype": "text/x-python",
   "name": "python",
   "nbconvert_exporter": "python",
   "pygments_lexer": "ipython3",
   "version": "3.12.4"
  }
 },
 "nbformat": 4,
 "nbformat_minor": 2
}
