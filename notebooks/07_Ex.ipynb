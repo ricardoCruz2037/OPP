{
 "cells": [
  {
   "cell_type": "markdown",
   "metadata": {},
   "source": [
    "Class Persona(apellidos 2, nombre)\n",
    "imprimir el nombre de la persona = say_my_name\n",
    "Pero el nombre debe iniciar por su nombre.\n",
    "El metodo no imprime eso, solo regresa la cadena, hasta ahora se trata de que regrese la cadena construida dentro del metodo con return\n",
    "Cuando imprima lo que me regrese debe estar con Estructura de primera mayuscula, osease, debe estar ordenado.\n"
   ]
  },
  {
   "cell_type": "code",
   "execution_count": 1,
   "metadata": {},
   "outputs": [],
   "source": [
    "class Persona:\n",
    "    def __init__(self, apellidoP, apellidoM, name):\n",
    "        self.apellidoP = apellidoP\n",
    "        self.apellidoM = apellidoM\n",
    "        self.name = name\n",
    "        \n",
    "    def __str__(self): # Método específico del lenguaje\n",
    "        return f'you are {self.name} {self.apellidoP} {self.apellidoM}'.title()"
   ]
  },
  {
   "cell_type": "code",
   "execution_count": 2,
   "metadata": {},
   "outputs": [
    {
     "name": "stdout",
     "output_type": "stream",
     "text": [
      "You Are Richi López Cruz\n"
     ]
    }
   ],
   "source": [
    "richi = Persona('lópez', 'cruz','rIcHi') # Intancia luis de la clase persona\n",
    "print(richi) # Impreción del obj."
   ]
  },
  {
   "cell_type": "markdown",
   "metadata": {},
   "source": [
    "---"
   ]
  },
  {
   "cell_type": "markdown",
   "metadata": {},
   "source": [
    "Clase Point2d, crea un punto de dos dimenciones dadas x y 'y'        \n",
    "    - Metodo calculate_distance, metodo que va a calcular la distancia entre dos punto, necesita dos objetos de la clase p2d.       \n",
    "    - Va a regresar la distancia entre dos puntos.      "
   ]
  },
  {
   "cell_type": "code",
   "execution_count": 3,
   "metadata": {},
   "outputs": [],
   "source": [
    "import math as mt\n",
    "\n",
    "class Point2D:\n",
    "    def __init__(self, x, y):\n",
    "        self.x = x\n",
    "        self.y = y\n",
    "        \n",
    "    def calculate_distance(self, other):\n",
    "        return mt.sqrt((mt.pow(self.x - other.x, 2) + (mt.pow(self.y - other.y, 2))))"
   ]
  },
  {
   "cell_type": "code",
   "execution_count": 4,
   "metadata": {},
   "outputs": [
    {
     "name": "stdout",
     "output_type": "stream",
     "text": [
      "6.082762530298219\n"
     ]
    }
   ],
   "source": [
    "p1 = Point2D(3, 4)\n",
    "p2 = Point2D(9, 5)\n",
    "d = p1.calculate_distance(p2)\n",
    "print(d)"
   ]
  },
  {
   "cell_type": "code",
   "execution_count": 5,
   "metadata": {},
   "outputs": [
    {
     "name": "stdout",
     "output_type": "stream",
     "text": [
      "15.0\n"
     ]
    }
   ],
   "source": [
    "p1 = Point2D(-3, 4)\n",
    "p2 = Point2D(9, -5)\n",
    "d = p1.calculate_distance(p2)\n",
    "print(d)"
   ]
  }
 ],
 "metadata": {
  "kernelspec": {
   "display_name": "Python 3",
   "language": "python",
   "name": "python3"
  },
  "language_info": {
   "codemirror_mode": {
    "name": "ipython",
    "version": 3
   },
   "file_extension": ".py",
   "mimetype": "text/x-python",
   "name": "python",
   "nbconvert_exporter": "python",
   "pygments_lexer": "ipython3",
   "version": "3.12.4"
  }
 },
 "nbformat": 4,
 "nbformat_minor": 2
}
