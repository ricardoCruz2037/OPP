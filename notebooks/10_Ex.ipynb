{
 "cells": [
  {
   "cell_type": "markdown",
   "metadata": {},
   "source": [
    "## Clase FrecqTable.\n",
    "El diccionario funcionara de la forma pasa un valor, checa si esta el valor si esta lo incrementa y si no lo agrega.\n",
    "- Método **add(element)**: Si ya existe el elemento lo incrementa.\n",
    "\n",
    "- Método **count(element)**: El elemento count verifica si esta, y regresa el numero de ocurrencias."
   ]
  },
  {
   "cell_type": "code",
   "execution_count": 20,
   "metadata": {},
   "outputs": [],
   "source": [
    "class FrecqTable:\n",
    "    def __init__(self):\n",
    "        self.cont = {}\n",
    "        \n",
    "    def Add(self, data):\n",
    "        if data in self.cont:\n",
    "            self.cont[data] += 1\n",
    "        else:\n",
    "            self.cont[data] = 1\n",
    "            \n",
    "    def count(self):\n",
    "        return self.cont"
   ]
  },
  {
   "cell_type": "code",
   "execution_count": 22,
   "metadata": {},
   "outputs": [
    {
     "name": "stdout",
     "output_type": "stream",
     "text": [
      "{1: 1, 3: 1}\n",
      "{1: 2, 3: 1}\n",
      "{1: 3, 3: 1}\n"
     ]
    }
   ],
   "source": [
    "obj = FrecqTable()\n",
    "obj.Add(1)\n",
    "obj.Add(3)\n",
    "print(obj.count())\n",
    "obj.Add(1)\n",
    "print(obj.count())\n",
    "obj.Add(1)\n",
    "print(obj.count())"
   ]
  }
 ],
 "metadata": {
  "kernelspec": {
   "display_name": "Python 3",
   "language": "python",
   "name": "python3"
  },
  "language_info": {
   "codemirror_mode": {
    "name": "ipython",
    "version": 3
   },
   "file_extension": ".py",
   "mimetype": "text/x-python",
   "name": "python",
   "nbconvert_exporter": "python",
   "pygments_lexer": "ipython3",
   "version": "3.12.4"
  }
 },
 "nbformat": 4,
 "nbformat_minor": 2
}
