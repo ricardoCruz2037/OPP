{
 "cells": [
  {
   "cell_type": "markdown",
   "metadata": {},
   "source": [
    "## Clase Time\n",
    "Necesita 3 atributos para las instancias: **hours**, **minutes** y **seconds**.\n",
    "- **Método int total_Sec**: Regresa el numero total que hay en las horas, minutos y segundos ingresados.\n",
    "- **Método str __str__**: Da el formato del resultado del método  **total_Sec** de modo que: 00:00:00.             \n",
    "- Testing: 02, 10 , 03; 16, 33, 11; 1, 1, 1."
   ]
  },
  {
   "cell_type": "code",
   "execution_count": 42,
   "metadata": {},
   "outputs": [],
   "source": [
    "class Time:\n",
    "    def __init__(self, hours, minutes, seconds):\n",
    "        self.hours = hours\n",
    "        self.minutes = minutes\n",
    "        self.seconds = seconds\n",
    "        \n",
    "    def total_Sec(self):\n",
    "        return self.hours * 3600 + self.minutes * 60 + self.seconds\n",
    "    \n",
    "    def __str__(self):         \n",
    "        print(f'En {self.hours:02}:{self.minutes:02}:{self.seconds:02} hay', self.total_Sec(), 'segundos!')\n"
   ]
  },
  {
   "cell_type": "code",
   "execution_count": 43,
   "metadata": {},
   "outputs": [
    {
     "name": "stdout",
     "output_type": "stream",
     "text": [
      "En 02:10:03 hay 7803 segundos!\n"
     ]
    }
   ],
   "source": [
    "h1 = Time(2, 10, 3)\n",
    "h1.__str__()"
   ]
  },
  {
   "cell_type": "code",
   "execution_count": 44,
   "metadata": {},
   "outputs": [
    {
     "name": "stdout",
     "output_type": "stream",
     "text": [
      "En 16:33:11 hay 59591 segundos!\n"
     ]
    }
   ],
   "source": [
    "h2 = Time(16, 33, 11)\n",
    "h2.__str__()"
   ]
  },
  {
   "cell_type": "code",
   "execution_count": 45,
   "metadata": {},
   "outputs": [
    {
     "name": "stdout",
     "output_type": "stream",
     "text": [
      "En 01:01:01 hay 3661 segundos!\n"
     ]
    }
   ],
   "source": [
    "h3 = Time(1,1,1)\n",
    "h3.__str__()"
   ]
  }
 ],
 "metadata": {
  "kernelspec": {
   "display_name": "Python 3",
   "language": "python",
   "name": "python3"
  },
  "language_info": {
   "codemirror_mode": {
    "name": "ipython",
    "version": 3
   },
   "file_extension": ".py",
   "mimetype": "text/x-python",
   "name": "python",
   "nbconvert_exporter": "python",
   "pygments_lexer": "ipython3",
   "version": "3.12.4"
  }
 },
 "nbformat": 4,
 "nbformat_minor": 2
}
