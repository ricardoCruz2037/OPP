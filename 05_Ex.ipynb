{
 "cells": [
  {
   "cell_type": "markdown",
   "id": "54e66fea-099a-4de6-bb29-d8430e4d81f7",
   "metadata": {},
   "source": [
    "# Ejercicio 5 de OOP"
   ]
  },
  {
   "cell_type": "markdown",
   "id": "efad7208-04be-4d8a-9e3c-ab2964f98295",
   "metadata": {},
   "source": [
    "\n",
    "<img src=\"05_herencia_multiple.png\" alt=\"Ex 1\" width=\"500\">"
   ]
  },
  {
   "cell_type": "markdown",
   "id": "5d731ff9-3745-4687-aa60-f9feff28c852",
   "metadata": {},
   "source": [
    "## Clase Animal\n",
    "- **str name**: Atributo de instancia. Nombre del animal.\n",
    "- **void eat()**: Imprime 'Yummy yummy! estoy comiendo.'.\n",
    "- **void make_noise()**: Imprime '{self.name} hace Grrrr!.'."
   ]
  },
  {
   "cell_type": "code",
   "execution_count": 51,
   "id": "ac66114b-5540-461d-8e66-ae28a8ddcfa0",
   "metadata": {},
   "outputs": [],
   "source": [
    "class Animal:\n",
    "    def __init__(self, name):\n",
    "        self.name = name\n",
    "        \n",
    "    def eat(self):\n",
    "        print('Yummy yummy! estoy comiendo.')\n",
    "        \n",
    "    def make_noise(self):\n",
    "        print(f'{self.name} hace Grrrr!.')"
   ]
  },
  {
   "cell_type": "code",
   "execution_count": 52,
   "id": "76dce99b-4bc9-43d1-804f-035e1150973a",
   "metadata": {},
   "outputs": [
    {
     "name": "stdout",
     "output_type": "stream",
     "text": [
      "Yummy yummy! estoy comiendo.\n",
      "Negro hace Grrrr!.\n"
     ]
    }
   ],
   "source": [
    "Negro = Animal('Negro')\n",
    "Negro.eat()\n",
    "Negro.make_noise()"
   ]
  },
  {
   "cell_type": "markdown",
   "id": "ee91a353-00a5-4c54-b976-23daf0b5edf5",
   "metadata": {},
   "source": [
    "## Clase Cat\n",
    "- **void make_noise()**: Imprime '{self.name} hace Rrrrrr!.'.\n",
    "- **void meow()**: Imprime 'Soy un gato y hago Meow!.'."
   ]
  },
  {
   "cell_type": "code",
   "execution_count": 53,
   "id": "baa920b0-8e5e-49f5-bfc1-da1622fb25a2",
   "metadata": {},
   "outputs": [],
   "source": [
    "class Cat(Animal):\n",
    "    def make_noise(self):\n",
    "        print(f'{self.name} hace Rrrrrr!.')\n",
    "        \n",
    "    def meow(self):\n",
    "        print('Soy un gato y hago Meow!.')"
   ]
  },
  {
   "cell_type": "code",
   "execution_count": 54,
   "id": "23e984ed-95ca-4f44-bae3-c280950985dc",
   "metadata": {},
   "outputs": [
    {
     "name": "stdout",
     "output_type": "stream",
     "text": [
      "Michu hace Rrrrrr!.\n",
      "Soy un gato y hago Meow!.\n",
      "Yummy yummy! estoy comiendo.\n"
     ]
    }
   ],
   "source": [
    "Michu = Cat('Michu')\n",
    "Michu.make_noise()\n",
    "Michu.meow()\n",
    "Michu.eat()"
   ]
  },
  {
   "cell_type": "markdown",
   "id": "7f6f4dec-6dbb-4428-b94d-2a4d37746113",
   "metadata": {},
   "source": [
    "## Clase Dog\n",
    "- **void action()**: Imprime '{self.name} mueve la cola!'.\n",
    "- **void bark()**: Imprime 'Soy un perro y hago woof woof!'."
   ]
  },
  {
   "cell_type": "code",
   "execution_count": 55,
   "id": "70e6b692-a2c1-48bd-ad3d-293c3405078d",
   "metadata": {},
   "outputs": [],
   "source": [
    "class Dog(Animal):\n",
    "    def action(self):\n",
    "        print(f'{self.name} mueve la cola!')\n",
    "    def bark(self):\n",
    "        print('Soy un perro y hago woof woof!')"
   ]
  },
  {
   "cell_type": "code",
   "execution_count": 56,
   "id": "66a3b6e5-da9f-4214-b619-89a9ced050a3",
   "metadata": {},
   "outputs": [
    {
     "name": "stdout",
     "output_type": "stream",
     "text": [
      "Soy un perro y hago woof woof!\n",
      "Yummy yummy! estoy comiendo.\n",
      "Firu hace Grrrr!.\n",
      "Firu mueve la cola!\n"
     ]
    }
   ],
   "source": [
    "Firu = Dog('Firu')\n",
    "Firu.bark()\n",
    "Firu.eat()\n",
    "Firu.make_noise()\n",
    "Firu.action()"
   ]
  },
  {
   "cell_type": "markdown",
   "id": "9e86ef54-4e3f-4a42-850d-85a8bda48ede",
   "metadata": {},
   "source": [
    "## Clase Wolf\n",
    "- **void action()**: Imprime '{self.name} muerde y duele OUCH!'."
   ]
  },
  {
   "cell_type": "code",
   "execution_count": 57,
   "id": "705daa5a",
   "metadata": {},
   "outputs": [],
   "source": [
    "class Wolf(Animal):\n",
    "    def action(self):\n",
    "        print(f'{self.name} muerde y duele, OUCH!.')"
   ]
  },
  {
   "cell_type": "code",
   "execution_count": 58,
   "id": "c70621bb",
   "metadata": {},
   "outputs": [
    {
     "name": "stdout",
     "output_type": "stream",
     "text": [
      "Sparco hace Grrrr!.\n",
      "Sparco muerde y duele, OUCH!.\n",
      "Yummy yummy! estoy comiendo.\n"
     ]
    }
   ],
   "source": [
    "Sparco = Wolf('Sparco')\n",
    "Sparco.make_noise()\n",
    "Sparco.action()\n",
    "Sparco.eat()"
   ]
  },
  {
   "cell_type": "markdown",
   "id": "7bb690af-fed2-4af9-bbd3-49a16a81918d",
   "metadata": {},
   "source": [
    "## Clase Hybrid\n",
    "- **void action()**: Imprime:\n",
    "    - '{self.name} mueve la cola!'\n",
    "    - '{self.name} muerde y duele OUCH!'"
   ]
  },
  {
   "cell_type": "code",
   "execution_count": 59,
   "id": "fe78e926",
   "metadata": {},
   "outputs": [],
   "source": [
    "class Hybrid(Dog, Wolf):\n",
    "    def action(self):\n",
    "        super().action()\n",
    "        Wolf.action(self) # Se escribe el nombre de la clase por que super() ya esta enlazado con la de hasta arriba, ademas, le tiene que pasar el objeto."
   ]
  },
  {
   "cell_type": "code",
   "execution_count": 60,
   "id": "cd13e49a",
   "metadata": {},
   "outputs": [
    {
     "name": "stdout",
     "output_type": "stream",
     "text": [
      "Hachi mueve la cola!\n",
      "Hachi muerde y duele, OUCH!.\n",
      "Yummy yummy! estoy comiendo.\n",
      "Hachi hace Grrrr!.\n"
     ]
    }
   ],
   "source": [
    "Hachi = Hybrid('Hachi')\n",
    "Hachi.action() # Hereda de papa perro \"bark\" y de papa lobo \"action\", y de su abuelito hereda \"eat\" y \"make_noise\"\n",
    "Hachi.eat() \n",
    "Hachi.make_noise() "
   ]
  },
  {
   "cell_type": "code",
   "execution_count": null,
   "id": "98f4490b",
   "metadata": {},
   "outputs": [],
   "source": []
  }
 ],
 "metadata": {
  "kernelspec": {
   "display_name": "Python 3 (ipykernel)",
   "language": "python",
   "name": "python3"
  },
  "language_info": {
   "codemirror_mode": {
    "name": "ipython",
    "version": 3
   },
   "file_extension": ".py",
   "mimetype": "text/x-python",
   "name": "python",
   "nbconvert_exporter": "python",
   "pygments_lexer": "ipython3",
   "version": "3.11.4"
  }
 },
 "nbformat": 4,
 "nbformat_minor": 5
}
