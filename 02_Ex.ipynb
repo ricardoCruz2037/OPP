{
 "cells": [
  {
   "cell_type": "markdown",
   "metadata": {},
   "source": [
    "# Ejercicio 2 de OPP\n",
    "## Herencia"
   ]
  },
  {
   "cell_type": "markdown",
   "metadata": {},
   "source": [
    "<img src=\"02_herencia.png\" alt=\"Ex 1\" width=\"500\">"
   ]
  },
  {
   "cell_type": "markdown",
   "metadata": {},
   "source": [
    "### Ninguna clase tiene atributos, hay 2 metodos meow y bark, ambos heredan un metodo de la clase animal que se llama comer.\n",
    "- **void eat()**: Imprime 'Yummy yummy! estoy comiendo!'.\n",
    "- **void meow()**: Imprime 'Soy un gato y hago meow!'. \n",
    "- **void bark()**: imprime 'Soy un perro y hago woof!'."
   ]
  },
  {
   "cell_type": "code",
   "execution_count": 19,
   "metadata": {},
   "outputs": [],
   "source": [
    "class Animal:\n",
    "    def __init__(self, name):\n",
    "        self.name = name\n",
    "    def eat(self): \n",
    "        print(f'Yummy yummy! estoy comiendo')\n",
    "\n",
    "# En automatico las clases cat y dog van a heredar todo lo de la clase animal.\n",
    "\n",
    "class Cat(Animal):\n",
    "    def meow(self):\n",
    "        print (f'Mi nombre es {self.name}!')\n",
    "        print(f'Soy un gato y hago meow!')\n",
    "        \n",
    "class Dog(Animal):\n",
    "    def bark(self):\n",
    "        print (f'Mi nombre es {self.name}!')\n",
    "        print(f'Soy un perro y hago woof!')\n",
    "            "
   ]
  },
  {
   "cell_type": "code",
   "execution_count": 20,
   "metadata": {},
   "outputs": [
    {
     "name": "stdout",
     "output_type": "stream",
     "text": [
      "Mi nombre es michu!\n",
      "Soy un gato y hago meow!\n",
      "Yummy yummy! estoy comiendo\n",
      "Mi nombre es firulais!\n",
      "Soy un perro y hago woof!\n",
      "Yummy yummy! estoy comiendo\n"
     ]
    }
   ],
   "source": [
    "# Codigo constructor para los objetos cat y dog: \n",
    "michu = Cat('michu') # Obj\n",
    "michu.meow() # Atributo de cat\n",
    "michu.eat() # Accesar al metodo que heredaron ambas clases.\n",
    "\n",
    "firulais = Dog('firulais') # Obj\n",
    "firulais.bark() # Atributo de dog\n",
    "firulais.eat() # Accesar al metodo que heredaron ambas clases.\n",
    "\n",
    "# eat() no existe en las clases perro o gato, es por que estan heredadas de animal, si quitamos la herencia nos daria error ya que no existiria mas que en animal.\n"
   ]
  },
  {
   "cell_type": "code",
   "execution_count": null,
   "metadata": {},
   "outputs": [],
   "source": []
  }
 ],
 "metadata": {
  "kernelspec": {
   "display_name": "Python 3",
   "language": "python",
   "name": "python3"
  },
  "language_info": {
   "codemirror_mode": {
    "name": "ipython",
    "version": 3
   },
   "file_extension": ".py",
   "mimetype": "text/x-python",
   "name": "python",
   "nbconvert_exporter": "python",
   "pygments_lexer": "ipython3",
   "version": "3.11.4"
  }
 },
 "nbformat": 4,
 "nbformat_minor": 2
}
