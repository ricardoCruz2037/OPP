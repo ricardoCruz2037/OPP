{
 "cells": [
  {
   "cell_type": "markdown",
   "metadata": {},
   "source": [
    "# Ejercicio 1 de OPP\n",
    "## Creacion de una clase y conceptos basicos."
   ]
  },
  {
   "cell_type": "markdown",
   "metadata": {},
   "source": [
    "<img src=\"01_create_class.png\" alt=\"Ex 1\" width=\"500\">"
   ]
  },
  {
   "cell_type": "markdown",
   "metadata": {},
   "source": [
    "## Elementos del diagrama UML\n",
    "### Clase Employee\n",
    "\n",
    "- *int id*: Atributo de instancia. Identificador unico para cada instancia de Employee.\n",
    "- *int new_id*: Atributo de clase. Identificador unico.\n",
    "- *void say_id()*:  Imprime 'Mi id es: {self.id}."
   ]
  },
  {
   "cell_type": "code",
   "execution_count": 1,
   "metadata": {},
   "outputs": [],
   "source": [
    "class Employee:\n",
    "    # Variable global\n",
    "    new_id = 1\n",
    "    # Metodo, funcion de una clase, debe ser __init__ para que se ejecute correctamente\n",
    "    def __init__(self, name, age): # Este metodo recive el obj self\n",
    "        self.id = Employee.new_id  # Agregar al obj instancia un atributo llamado id\n",
    "        self.name = name # Inicializar atributo name, name está siendo pasada por el parametro, no es una variable global como new_id\n",
    "        self.age = age\n",
    "        Employee.new_id += 1 # De la clase empleado incrementa la variable global new_id \"1\"\n",
    "        \n",
    "    # En si py no es tipado, pero si lo hace habra que indicarlo\n",
    "    def say_id(self): # Todo metodo debe recibir la instancia self\n",
    "        print(f'Mi nombre es {self.name}, mi id es: {self.id}') #´´Cadena de caracteres, atributo entre llaves\n",
    "        \n",
    "    def say_age(self):\n",
    "        print(f'Mi edad es: {self.age}')\n",
    "        \n",
    "        "
   ]
  },
  {
   "cell_type": "code",
   "execution_count": 2,
   "metadata": {},
   "outputs": [
    {
     "name": "stdout",
     "output_type": "stream",
     "text": [
      "Mi nombre es Savana, mi id es: 1\n",
      "Mi edad es: 22\n",
      "Mi nombre es Dakota, mi id es: 2\n",
      "Mi edad es: 80\n"
     ]
    }
   ],
   "source": [
    "# Codigo de construccion:\n",
    "\n",
    "Savana = Employee('Savana', 22) # Instanciar un objeto de la clase \"Employee\"\n",
    "Savana.say_id() # Llamar al metodo say_id\n",
    "Savana.say_age()\n",
    "\n",
    "Dakota = Employee('Dakota', 80)\n",
    "Dakota.say_id()\n",
    "Dakota.say_age()\n",
    "# Estas instanciando, usando el mismo nombre pero como estas instanciando por eso va ir en aumento el ID, porque es el mismo atributo.\n",
    "\n",
    "#supongamos que quiero agregarle el nombre al empleado, entonces, "
   ]
  },
  {
   "cell_type": "markdown",
   "metadata": {},
   "source": [
    "----"
   ]
  },
  {
   "cell_type": "code",
   "execution_count": 3,
   "metadata": {},
   "outputs": [
    {
     "name": "stdout",
     "output_type": "stream",
     "text": [
      "Mi ID es: 22\n"
     ]
    }
   ],
   "source": [
    "# Para comprender mejor, este es de GPT Xd:\n",
    "class Employee: # Declarar una clase y su nombre, cuando no está heredando no ocupa parentesis\n",
    "  # Metodo constructor\n",
    "  def __init__(self, id, new_id): \n",
    "    # Atributos de la clase Employee (id, new_id)\n",
    "    self.id = id \n",
    "    self.new_id = new_id\n",
    "  # Metodo de impresion\n",
    "  def say_id(self): \n",
    "    print(\"Mi ID es:\", self.id)\n",
    "# Instanciar clase Employee al crear objeto \"empleado_n\"    \n",
    "empleado_1 = Employee (22, 23) \n",
    "# Llamada al metodo say_id\n",
    "empleado_1.say_id()"
   ]
  }
 ],
 "metadata": {
  "kernelspec": {
   "display_name": "Python 3",
   "language": "python",
   "name": "python3"
  },
  "language_info": {
   "codemirror_mode": {
    "name": "ipython",
    "version": 3
   },
   "file_extension": ".py",
   "mimetype": "text/x-python",
   "name": "python",
   "nbconvert_exporter": "python",
   "pygments_lexer": "ipython3",
   "version": "3.11.4"
  }
 },
 "nbformat": 4,
 "nbformat_minor": 2
}
