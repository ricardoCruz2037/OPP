{
 "cells": [
  {
   "cell_type": "markdown",
   "metadata": {},
   "source": [
    "# Ejercicio 3 de OPP"
   ]
  },
  {
   "cell_type": "markdown",
   "metadata": {},
   "source": [
    "## Herencia"
   ]
  },
  {
   "cell_type": "markdown",
   "metadata": {},
   "source": [
    "<img src=\"03_herencia.png\" alt=\"Ex 1\" width=\"500\">"
   ]
  },
  {
   "cell_type": "markdown",
   "metadata": {},
   "source": [
    "# Lo primero, documentar que hace cada clase:\n",
    "## Clase Employee:\n",
    "\n",
    "- *int id*: Atributo de instancia. Identificador unico para cada instancia de Employee.\n",
    "- *int new_id*: Atributo de clase. Identificador unico.\n",
    "- *void say_id()*:  Imprime 'Mi id es: {self.id}."
   ]
  },
  {
   "cell_type": "code",
   "execution_count": 40,
   "metadata": {},
   "outputs": [],
   "source": [
    "class Employee:\n",
    "    # Variable global\n",
    "    new_id = 1\n",
    "    # Metodo, funcion de una clase, debe ser __init__ para que se ejecute correctamente\n",
    "    def __init__(self): # Este metodo recive el obj self\n",
    "        self.id = Employee.new_id  # Agregar al obj instancia un atributo llamado id\n",
    "        Employee.new_id += 1\n",
    "        \n",
    "    # En si py no es tipado, pero si lo hace habra que indicarlo\n",
    "    def say_id(self): # Todo metodo debe recibir la instancia self\n",
    "        print(f'Mi id es: {self.id}') # ´v´Cadena de caracteres, atributo entre llaves"
   ]
  },
  {
   "cell_type": "code",
   "execution_count": 41,
   "metadata": {},
   "outputs": [
    {
     "name": "stdout",
     "output_type": "stream",
     "text": [
      "Mi id es: 1\n",
      "Mi id es: 2\n"
     ]
    }
   ],
   "source": [
    "Savana = Employee() # Instanciar un objeto de la clase \"Employee\"\n",
    "Savana.say_id() # Llamar al metodo say_id\n",
    "\n",
    "Dakota = Employee()\n",
    "Dakota.say_id()"
   ]
  },
  {
   "cell_type": "markdown",
   "metadata": {},
   "source": [
    "## Clase Admin:\n",
    "- **void say_id():** Imprime:\n",
    "    - 'Mi id es {self.id}'\n",
    "    - 'Soy administrador'"
   ]
  },
  {
   "cell_type": "code",
   "execution_count": 42,
   "metadata": {},
   "outputs": [],
   "source": [
    "# Clase Admin, que hereda de Employee y ejecuta el metodo de padre\n",
    "class Admin(Employee):\n",
    "    def say_id(self): # Instancia = self\n",
    "        super().say_id()# Referencia a la clase padre a hijo, de padre ejecuta el metodo de ahi, llamado a un metodo de una clase par.\n",
    "        # Imprimir 'Mi id es: {slef.id}'\n",
    "        print('Soy administrador')"
   ]
  },
  {
   "cell_type": "markdown",
   "metadata": {},
   "source": [
    "Test de admin"
   ]
  },
  {
   "cell_type": "code",
   "execution_count": 43,
   "metadata": {},
   "outputs": [
    {
     "name": "stdout",
     "output_type": "stream",
     "text": [
      "Mi id es: 3\n",
      "Soy administrador\n"
     ]
    }
   ],
   "source": [
    "Juan = Admin()\n",
    "Juan.say_id()"
   ]
  },
  {
   "cell_type": "markdown",
   "metadata": {},
   "source": [
    "## Clase Manager\n",
    "- **void say_id():** Imprime:\n",
    "    - 'Mi id es {self.id}'\n",
    "    - 'Soy administrador'\n",
    "    - 'Estoy a cargo'"
   ]
  },
  {
   "cell_type": "code",
   "execution_count": 44,
   "metadata": {},
   "outputs": [],
   "source": [
    "class Manager(Admin):\n",
    "    def say_id(self):\n",
    "        super().say_id()\n",
    "        print(\"Estoy al mando\")\n",
    "        # Llama al metodo de la clase admin, y esa lo que hace es llamar al metodo de la clase empleado, es una cadena de clases basicamente."
   ]
  },
  {
   "cell_type": "code",
   "execution_count": 45,
   "metadata": {},
   "outputs": [
    {
     "name": "stdout",
     "output_type": "stream",
     "text": [
      "Mi id es: 4\n",
      "Soy administrador\n",
      "Estoy al mando\n"
     ]
    }
   ],
   "source": [
    "Eunice = Manager()\n",
    "Eunice.say_id()"
   ]
  },
  {
   "cell_type": "code",
   "execution_count": null,
   "metadata": {},
   "outputs": [],
   "source": []
  }
 ],
 "metadata": {
  "kernelspec": {
   "display_name": "Python 3",
   "language": "python",
   "name": "python3"
  },
  "language_info": {
   "codemirror_mode": {
    "name": "ipython",
    "version": 3
   },
   "file_extension": ".py",
   "mimetype": "text/x-python",
   "name": "python",
   "nbconvert_exporter": "python",
   "pygments_lexer": "ipython3",
   "version": "3.11.4"
  }
 },
 "nbformat": 4,
 "nbformat_minor": 2
}
